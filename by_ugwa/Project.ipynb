{
 "cells": [
  {
   "cell_type": "code",
   "execution_count": null,
   "metadata": {},
   "outputs": [],
   "source": [
    "# Initial imports\n",
    "import pandas as pd\n",
    "import numpy as np\n",
    "import datetime as dt\n",
    "from pathlib import Path\n",
    "import seaborn as sns\n",
    "\n",
    "%matplotlib inline"
   ]
  },
  {
   "cell_type": "code",
   "execution_count": 3,
   "metadata": {},
   "outputs": [],
   "source": [
    "#declaring\n"
   ]
  },
  {
   "cell_type": "code",
   "execution_count": 137,
   "metadata": {},
   "outputs": [],
   "source": [
    "mkt2010=pd.read_csv('Resources/market_history_2010.csv', infer_datetime_format=True, parse_dates=True)\n",
    "mkt2011=pd.read_csv('Resources/market_history_2011.csv', infer_datetime_format=True, parse_dates=True)\n",
    "mkt2012=pd.read_csv('Resources/market_history_2012.csv', infer_datetime_format=True, parse_dates=True)\n",
    "mkt2013=pd.read_csv('Resources/market_history_2013.csv', infer_datetime_format=True, parse_dates=True)\n",
    "mkt2014=pd.read_csv('Resources/market_history_2014.csv', infer_datetime_format=True, parse_dates=True)\n",
    "mkt2015=pd.read_csv('Resources/market_history_2015.csv', infer_datetime_format=True, parse_dates=True)\n",
    "mkt2016=pd.read_csv('Resources/market_history_2016.csv', infer_datetime_format=True, parse_dates=True)\n",
    "mkt2017=pd.read_csv('Resources/market_history_2017.csv', infer_datetime_format=True, parse_dates=True)\n",
    "mkt2018=pd.read_csv('Resources/market_history_2018.csv', infer_datetime_format=True, parse_dates=True)\n",
    "mkt2019=pd.read_csv('Resources/market_history_2019.csv', infer_datetime_format=True, parse_dates=True)\n",
    "mkt2020=pd.read_csv('Resources/market_history_2020.csv', infer_datetime_format=True, parse_dates=True)"
   ]
  },
  {
   "cell_type": "code",
   "execution_count": 140,
   "metadata": {},
   "outputs": [],
   "source": [
    "mkt2010_df=mkt2010.drop(['Tape A Shares','Tape B Shares','Tape C Shares','Tape A Notional','Tape B Notional','Tape C Notional','Tape A Trade Count','Tape B Trade Count','Tape C Trade Count'], axis = 1) \n",
    "mkt2011_df=mkt2011.drop(['Tape A Shares','Tape B Shares','Tape C Shares','Tape A Notional','Tape B Notional','Tape C Notional','Tape A Trade Count','Tape B Trade Count','Tape C Trade Count'], axis = 1) \n",
    "mkt2012_df=mkt2012.drop(['Tape A Shares','Tape B Shares','Tape C Shares','Tape A Notional','Tape B Notional','Tape C Notional','Tape A Trade Count','Tape B Trade Count','Tape C Trade Count'], axis = 1) \n",
    "mkt2013_df=mkt2013.drop(['Tape A Shares','Tape B Shares','Tape C Shares','Tape A Notional','Tape B Notional','Tape C Notional','Tape A Trade Count','Tape B Trade Count','Tape C Trade Count'], axis = 1) \n",
    "mkt2014_df=mkt2014.drop(['Tape A Shares','Tape B Shares','Tape C Shares','Tape A Notional','Tape B Notional','Tape C Notional','Tape A Trade Count','Tape B Trade Count','Tape C Trade Count'], axis = 1) \n",
    "mkt2015_df=mkt2015.drop(['Tape A Shares','Tape B Shares','Tape C Shares','Tape A Notional','Tape B Notional','Tape C Notional','Tape A Trade Count','Tape B Trade Count','Tape C Trade Count'], axis = 1) \n",
    "mkt2016_df=mkt2016.drop(['Tape A Shares','Tape B Shares','Tape C Shares','Tape A Notional','Tape B Notional','Tape C Notional','Tape A Trade Count','Tape B Trade Count','Tape C Trade Count'], axis = 1) \n",
    "mkt2017_df=mkt2017.drop(['Tape A Shares','Tape B Shares','Tape C Shares','Tape A Notional','Tape B Notional','Tape C Notional','Tape A Trade Count','Tape B Trade Count','Tape C Trade Count'], axis = 1) \n",
    "mkt2018_df=mkt2018.drop(['Tape A Shares','Tape B Shares','Tape C Shares','Tape A Notional','Tape B Notional','Tape C Notional','Tape A Trade Count','Tape B Trade Count','Tape C Trade Count'], axis = 1) \n",
    "mkt2019_df=mkt2019.drop(['Tape A Shares','Tape B Shares','Tape C Shares','Tape A Notional','Tape B Notional','Tape C Notional','Tape A Trade Count','Tape B Trade Count','Tape C Trade Count'], axis = 1) \n",
    "mkt2020_df=mkt2020.drop(['Tape A Shares','Tape B Shares','Tape C Shares','Tape A Notional','Tape B Notional','Tape C Notional','Tape A Trade Count','Tape B Trade Count','Tape C Trade Count'], axis = 1) \n"
   ]
  },
  {
   "cell_type": "code",
   "execution_count": 141,
   "metadata": {},
   "outputs": [],
   "source": [
    "combined_MKT=pd.concat([mkt2010_df,mkt2011_df,mkt2012_df,mkt2013_df,mkt2014_df,mkt2015_df,mkt2016_df,mkt2017_df,mkt2018_df,mkt2019_df,mkt2020_df], axis='rows',join='inner')"
   ]
  },
  {
   "cell_type": "code",
   "execution_count": 142,
   "metadata": {},
   "outputs": [
    {
     "data": {
      "text/html": [
       "<div>\n",
       "<style scoped>\n",
       "    .dataframe tbody tr th:only-of-type {\n",
       "        vertical-align: middle;\n",
       "    }\n",
       "\n",
       "    .dataframe tbody tr th {\n",
       "        vertical-align: top;\n",
       "    }\n",
       "\n",
       "    .dataframe thead th {\n",
       "        text-align: right;\n",
       "    }\n",
       "</style>\n",
       "<table border=\"1\" class=\"dataframe\">\n",
       "  <thead>\n",
       "    <tr style=\"text-align: right;\">\n",
       "      <th></th>\n",
       "      <th>Day</th>\n",
       "      <th>Market Participant</th>\n",
       "      <th>Total Shares</th>\n",
       "      <th>Total Notional</th>\n",
       "      <th>Total Trade Count</th>\n",
       "    </tr>\n",
       "  </thead>\n",
       "  <tbody>\n",
       "    <tr>\n",
       "      <th>0</th>\n",
       "      <td>2010-12-31</td>\n",
       "      <td>AMEX (A)</td>\n",
       "      <td>25083128.0</td>\n",
       "      <td>4.231774e+08</td>\n",
       "      <td>96923</td>\n",
       "    </tr>\n",
       "    <tr>\n",
       "      <th>1</th>\n",
       "      <td>2010-12-31</td>\n",
       "      <td>BEX (B)</td>\n",
       "      <td>96986204.0</td>\n",
       "      <td>2.496656e+09</td>\n",
       "      <td>517244</td>\n",
       "    </tr>\n",
       "    <tr>\n",
       "      <th>2</th>\n",
       "      <td>2010-12-31</td>\n",
       "      <td>NSX (C)</td>\n",
       "      <td>28307821.0</td>\n",
       "      <td>6.299394e+08</td>\n",
       "      <td>106939</td>\n",
       "    </tr>\n",
       "  </tbody>\n",
       "</table>\n",
       "</div>"
      ],
      "text/plain": [
       "          Day Market Participant  Total Shares  Total Notional  \\\n",
       "0  2010-12-31           AMEX (A)    25083128.0    4.231774e+08   \n",
       "1  2010-12-31            BEX (B)    96986204.0    2.496656e+09   \n",
       "2  2010-12-31            NSX (C)    28307821.0    6.299394e+08   \n",
       "\n",
       "   Total Trade Count  \n",
       "0              96923  \n",
       "1             517244  \n",
       "2             106939  "
      ]
     },
     "execution_count": 142,
     "metadata": {},
     "output_type": "execute_result"
    }
   ],
   "source": [
    "combined_MKT.head(3)"
   ]
  },
  {
   "cell_type": "code",
   "execution_count": 114,
   "metadata": {},
   "outputs": [],
   "source": [
    "#MKT_part=combined_MKT.groupby('Market Participant').sum()"
   ]
  },
  {
   "cell_type": "code",
   "execution_count": 143,
   "metadata": {},
   "outputs": [],
   "source": [
    "MKT_part=combined_MKT.sort_values(by='Market Participant')"
   ]
  },
  {
   "cell_type": "code",
   "execution_count": 145,
   "metadata": {},
   "outputs": [
    {
     "data": {
      "text/html": [
       "<div>\n",
       "<style scoped>\n",
       "    .dataframe tbody tr th:only-of-type {\n",
       "        vertical-align: middle;\n",
       "    }\n",
       "\n",
       "    .dataframe tbody tr th {\n",
       "        vertical-align: top;\n",
       "    }\n",
       "\n",
       "    .dataframe thead th {\n",
       "        text-align: right;\n",
       "    }\n",
       "</style>\n",
       "<table border=\"1\" class=\"dataframe\">\n",
       "  <thead>\n",
       "    <tr style=\"text-align: right;\">\n",
       "      <th></th>\n",
       "      <th>Day</th>\n",
       "      <th>Market Participant</th>\n",
       "      <th>Total Shares</th>\n",
       "      <th>Total Notional</th>\n",
       "      <th>Total Trade Count</th>\n",
       "    </tr>\n",
       "  </thead>\n",
       "  <tbody>\n",
       "    <tr>\n",
       "      <th>1628</th>\n",
       "      <td>2014-07-17</td>\n",
       "      <td>ADF (D)</td>\n",
       "      <td>60967215.0</td>\n",
       "      <td>2.241300e+09</td>\n",
       "      <td>287284</td>\n",
       "    </tr>\n",
       "    <tr>\n",
       "      <th>1992</th>\n",
       "      <td>2014-06-10</td>\n",
       "      <td>ADF (D)</td>\n",
       "      <td>53951601.0</td>\n",
       "      <td>1.713916e+09</td>\n",
       "      <td>250348</td>\n",
       "    </tr>\n",
       "    <tr>\n",
       "      <th>2006</th>\n",
       "      <td>2014-06-09</td>\n",
       "      <td>ADF (D)</td>\n",
       "      <td>54126311.0</td>\n",
       "      <td>1.846032e+09</td>\n",
       "      <td>255333</td>\n",
       "    </tr>\n",
       "    <tr>\n",
       "      <th>2020</th>\n",
       "      <td>2014-06-06</td>\n",
       "      <td>ADF (D)</td>\n",
       "      <td>53847554.0</td>\n",
       "      <td>1.867987e+09</td>\n",
       "      <td>246091</td>\n",
       "    </tr>\n",
       "    <tr>\n",
       "      <th>2034</th>\n",
       "      <td>2014-06-05</td>\n",
       "      <td>ADF (D)</td>\n",
       "      <td>64442278.0</td>\n",
       "      <td>2.043151e+09</td>\n",
       "      <td>279310</td>\n",
       "    </tr>\n",
       "  </tbody>\n",
       "</table>\n",
       "</div>"
      ],
      "text/plain": [
       "             Day Market Participant  Total Shares  Total Notional  \\\n",
       "1628  2014-07-17            ADF (D)    60967215.0    2.241300e+09   \n",
       "1992  2014-06-10            ADF (D)    53951601.0    1.713916e+09   \n",
       "2006  2014-06-09            ADF (D)    54126311.0    1.846032e+09   \n",
       "2020  2014-06-06            ADF (D)    53847554.0    1.867987e+09   \n",
       "2034  2014-06-05            ADF (D)    64442278.0    2.043151e+09   \n",
       "\n",
       "      Total Trade Count  \n",
       "1628             287284  \n",
       "1992             250348  \n",
       "2006             255333  \n",
       "2020             246091  \n",
       "2034             279310  "
      ]
     },
     "execution_count": 145,
     "metadata": {},
     "output_type": "execute_result"
    }
   ],
   "source": [
    "MKT_part.head()"
   ]
  },
  {
   "cell_type": "code",
   "execution_count": 146,
   "metadata": {},
   "outputs": [],
   "source": [
    "#set an index by dates\n",
    "MKT_part.set_index(['Day'], drop=True, inplace=True)"
   ]
  },
  {
   "cell_type": "code",
   "execution_count": 149,
   "metadata": {},
   "outputs": [],
   "source": [
    "#Convert to daily dates\n",
    "MKT_part.index = pd.DatetimeIndex(data=MKT_part.index)\n",
    "\n",
    "#Convert to strings\n",
    "MKT_part.index = MKT_part.index.strftime('%Y')"
   ]
  },
  {
   "cell_type": "code",
   "execution_count": 150,
   "metadata": {},
   "outputs": [],
   "source": [
    "MKT_part=MKT_part.reset_index()"
   ]
  },
  {
   "cell_type": "code",
   "execution_count": 151,
   "metadata": {},
   "outputs": [],
   "source": [
    "l=MKT_part.groupby('index').sum()"
   ]
  },
  {
   "cell_type": "code",
   "execution_count": 152,
   "metadata": {},
   "outputs": [
    {
     "data": {
      "text/html": [
       "<div>\n",
       "<style scoped>\n",
       "    .dataframe tbody tr th:only-of-type {\n",
       "        vertical-align: middle;\n",
       "    }\n",
       "\n",
       "    .dataframe tbody tr th {\n",
       "        vertical-align: top;\n",
       "    }\n",
       "\n",
       "    .dataframe thead th {\n",
       "        text-align: right;\n",
       "    }\n",
       "</style>\n",
       "<table border=\"1\" class=\"dataframe\">\n",
       "  <thead>\n",
       "    <tr style=\"text-align: right;\">\n",
       "      <th></th>\n",
       "      <th>Total Shares</th>\n",
       "      <th>Total Notional</th>\n",
       "      <th>Total Trade Count</th>\n",
       "    </tr>\n",
       "    <tr>\n",
       "      <th>index</th>\n",
       "      <th></th>\n",
       "      <th></th>\n",
       "      <th></th>\n",
       "    </tr>\n",
       "  </thead>\n",
       "  <tbody>\n",
       "    <tr>\n",
       "      <th>2010</th>\n",
       "      <td>2.135634e+12</td>\n",
       "      <td>5.912426e+13</td>\n",
       "      <td>7265593566</td>\n",
       "    </tr>\n",
       "    <tr>\n",
       "      <th>2011</th>\n",
       "      <td>1.974858e+12</td>\n",
       "      <td>6.378478e+13</td>\n",
       "      <td>7652472807</td>\n",
       "    </tr>\n",
       "    <tr>\n",
       "      <th>2012</th>\n",
       "      <td>1.609339e+12</td>\n",
       "      <td>5.270091e+13</td>\n",
       "      <td>6175228046</td>\n",
       "    </tr>\n",
       "    <tr>\n",
       "      <th>2013</th>\n",
       "      <td>1.559231e+12</td>\n",
       "      <td>5.611218e+13</td>\n",
       "      <td>5952593978</td>\n",
       "    </tr>\n",
       "    <tr>\n",
       "      <th>2014</th>\n",
       "      <td>1.616477e+12</td>\n",
       "      <td>6.546682e+13</td>\n",
       "      <td>7572168526</td>\n",
       "    </tr>\n",
       "    <tr>\n",
       "      <th>2015</th>\n",
       "      <td>1.741808e+12</td>\n",
       "      <td>7.009831e+13</td>\n",
       "      <td>8205202463</td>\n",
       "    </tr>\n",
       "    <tr>\n",
       "      <th>2016</th>\n",
       "      <td>1.851935e+12</td>\n",
       "      <td>6.876751e+13</td>\n",
       "      <td>8746575142</td>\n",
       "    </tr>\n",
       "    <tr>\n",
       "      <th>2017</th>\n",
       "      <td>1.638362e+12</td>\n",
       "      <td>6.805883e+13</td>\n",
       "      <td>7725739303</td>\n",
       "    </tr>\n",
       "    <tr>\n",
       "      <th>2018</th>\n",
       "      <td>1.837773e+12</td>\n",
       "      <td>8.969978e+13</td>\n",
       "      <td>9177287983</td>\n",
       "    </tr>\n",
       "    <tr>\n",
       "      <th>2019</th>\n",
       "      <td>1.771588e+12</td>\n",
       "      <td>8.107951e+13</td>\n",
       "      <td>9166825447</td>\n",
       "    </tr>\n",
       "    <tr>\n",
       "      <th>2020</th>\n",
       "      <td>2.763750e+12</td>\n",
       "      <td>1.213003e+14</td>\n",
       "      <td>14838246721</td>\n",
       "    </tr>\n",
       "  </tbody>\n",
       "</table>\n",
       "</div>"
      ],
      "text/plain": [
       "       Total Shares  Total Notional  Total Trade Count\n",
       "index                                                 \n",
       "2010   2.135634e+12    5.912426e+13         7265593566\n",
       "2011   1.974858e+12    6.378478e+13         7652472807\n",
       "2012   1.609339e+12    5.270091e+13         6175228046\n",
       "2013   1.559231e+12    5.611218e+13         5952593978\n",
       "2014   1.616477e+12    6.546682e+13         7572168526\n",
       "2015   1.741808e+12    7.009831e+13         8205202463\n",
       "2016   1.851935e+12    6.876751e+13         8746575142\n",
       "2017   1.638362e+12    6.805883e+13         7725739303\n",
       "2018   1.837773e+12    8.969978e+13         9177287983\n",
       "2019   1.771588e+12    8.107951e+13         9166825447\n",
       "2020   2.763750e+12    1.213003e+14        14838246721"
      ]
     },
     "execution_count": 152,
     "metadata": {},
     "output_type": "execute_result"
    }
   ],
   "source": [
    "l.head(11)"
   ]
  },
  {
   "cell_type": "code",
   "execution_count": 154,
   "metadata": {},
   "outputs": [
    {
     "data": {
      "text/plain": [
       "<matplotlib.axes._subplots.AxesSubplot at 0x233f1c474c8>"
      ]
     },
     "execution_count": 154,
     "metadata": {},
     "output_type": "execute_result"
    },
    {
     "data": {
      "image/png": "[encoded data removed]",
      "text/plain": [
       "<Figure size 432x288 with 1 Axes>"
      ]
     },
     "metadata": {
      "needs_background": "light"
     },
     "output_type": "display_data"
    }
   ],
   "source": [
    "l.plot() #basic plotting"
   ]
  },
  {
   "cell_type": "code",
   "execution_count": null,
   "metadata": {},
   "outputs": [],
   "source": []
  }
 ],
 "metadata": {
  "kernelspec": {
   "display_name": "Python 3",
   "language": "python",
   "name": "python3"
  },
  "language_info": {
   "codemirror_mode": {
    "name": "ipython",
    "version": 3
   },
   "file_extension": ".py",
   "mimetype": "text/x-python",
   "name": "python",
   "nbconvert_exporter": "python",
   "pygments_lexer": "ipython3",
   "version": "3.7.9"
  }
 },
 "nbformat": 4,
 "nbformat_minor": 5
}
