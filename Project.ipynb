{
 "cells": [
  {
   "cell_type": "code",
   "execution_count": 154,
   "metadata": {},
   "outputs": [],
   "source": [
    "# Initial imports\n",
    "import pandas as pd\n",
    "import numpy as np\n",
    "import datetime as dt\n",
    "from pathlib import Path\n",
    "import seaborn as sns\n",
    "import yfinance as yf\n",
    "\n",
    "%matplotlib inline"
   ]
  },
  {
   "cell_type": "code",
   "execution_count": 25,
   "metadata": {},
   "outputs": [],
   "source": [
    "#declaring\n"
   ]
  },
  {
   "cell_type": "code",
   "execution_count": 26,
   "metadata": {},
   "outputs": [],
   "source": [
    "mkt2010=pd.read_csv('Resources/market_history_2010.csv', infer_datetime_format=True, parse_dates=True)\n",
    "mkt2011=pd.read_csv('Resources/market_history_2011.csv', infer_datetime_format=True, parse_dates=True)\n",
    "mkt2012=pd.read_csv('Resources/market_history_2012.csv', infer_datetime_format=True, parse_dates=True)\n",
    "mkt2013=pd.read_csv('Resources/market_history_2013.csv', infer_datetime_format=True, parse_dates=True)\n",
    "mkt2014=pd.read_csv('Resources/market_history_2014.csv', infer_datetime_format=True, parse_dates=True)\n",
    "mkt2015=pd.read_csv('Resources/market_history_2015.csv', infer_datetime_format=True, parse_dates=True)\n",
    "mkt2016=pd.read_csv('Resources/market_history_2016.csv', infer_datetime_format=True, parse_dates=True)\n",
    "mkt2017=pd.read_csv('Resources/market_history_2017.csv', infer_datetime_format=True, parse_dates=True)\n",
    "mkt2018=pd.read_csv('Resources/market_history_2018.csv', infer_datetime_format=True, parse_dates=True)\n",
    "mkt2019=pd.read_csv('Resources/market_history_2019.csv', infer_datetime_format=True, parse_dates=True)\n",
    "mkt2020=pd.read_csv('Resources/market_history_2020.csv', infer_datetime_format=True, parse_dates=True)"
   ]
  },
  {
   "cell_type": "code",
   "execution_count": 27,
   "metadata": {},
   "outputs": [],
   "source": [
    "mkt2010_df=mkt2010.drop(['Tape A Shares','Tape B Shares','Tape C Shares','Tape A Notional','Tape B Notional','Tape C Notional','Tape A Trade Count','Tape B Trade Count','Tape C Trade Count'], axis = 1) \n",
    "mkt2011_df=mkt2011.drop(['Tape A Shares','Tape B Shares','Tape C Shares','Tape A Notional','Tape B Notional','Tape C Notional','Tape A Trade Count','Tape B Trade Count','Tape C Trade Count'], axis = 1) \n",
    "mkt2012_df=mkt2012.drop(['Tape A Shares','Tape B Shares','Tape C Shares','Tape A Notional','Tape B Notional','Tape C Notional','Tape A Trade Count','Tape B Trade Count','Tape C Trade Count'], axis = 1) \n",
    "mkt2013_df=mkt2013.drop(['Tape A Shares','Tape B Shares','Tape C Shares','Tape A Notional','Tape B Notional','Tape C Notional','Tape A Trade Count','Tape B Trade Count','Tape C Trade Count'], axis = 1) \n",
    "mkt2014_df=mkt2014.drop(['Tape A Shares','Tape B Shares','Tape C Shares','Tape A Notional','Tape B Notional','Tape C Notional','Tape A Trade Count','Tape B Trade Count','Tape C Trade Count'], axis = 1) \n",
    "mkt2015_df=mkt2015.drop(['Tape A Shares','Tape B Shares','Tape C Shares','Tape A Notional','Tape B Notional','Tape C Notional','Tape A Trade Count','Tape B Trade Count','Tape C Trade Count'], axis = 1) \n",
    "mkt2016_df=mkt2016.drop(['Tape A Shares','Tape B Shares','Tape C Shares','Tape A Notional','Tape B Notional','Tape C Notional','Tape A Trade Count','Tape B Trade Count','Tape C Trade Count'], axis = 1) \n",
    "mkt2017_df=mkt2017.drop(['Tape A Shares','Tape B Shares','Tape C Shares','Tape A Notional','Tape B Notional','Tape C Notional','Tape A Trade Count','Tape B Trade Count','Tape C Trade Count'], axis = 1) \n",
    "mkt2018_df=mkt2018.drop(['Tape A Shares','Tape B Shares','Tape C Shares','Tape A Notional','Tape B Notional','Tape C Notional','Tape A Trade Count','Tape B Trade Count','Tape C Trade Count'], axis = 1) \n",
    "mkt2019_df=mkt2019.drop(['Tape A Shares','Tape B Shares','Tape C Shares','Tape A Notional','Tape B Notional','Tape C Notional','Tape A Trade Count','Tape B Trade Count','Tape C Trade Count'], axis = 1) \n",
    "mkt2020_df=mkt2020.drop(['Tape A Shares','Tape B Shares','Tape C Shares','Tape A Notional','Tape B Notional','Tape C Notional','Tape A Trade Count','Tape B Trade Count','Tape C Trade Count'], axis = 1) \n"
   ]
  },
  {
   "cell_type": "code",
   "execution_count": 28,
   "metadata": {},
   "outputs": [],
   "source": [
    "combined_MKT=pd.concat([mkt2010_df,mkt2011_df,mkt2012_df,mkt2013_df,mkt2014_df,mkt2015_df,mkt2016_df,mkt2017_df,mkt2018_df,mkt2019_df,mkt2020_df], axis='rows',join='inner')"
   ]
  },
  {
   "cell_type": "code",
   "execution_count": 29,
   "metadata": {},
   "outputs": [
    {
     "data": {
      "text/html": [
       "<div>\n",
       "<style scoped>\n",
       "    .dataframe tbody tr th:only-of-type {\n",
       "        vertical-align: middle;\n",
       "    }\n",
       "\n",
       "    .dataframe tbody tr th {\n",
       "        vertical-align: top;\n",
       "    }\n",
       "\n",
       "    .dataframe thead th {\n",
       "        text-align: right;\n",
       "    }\n",
       "</style>\n",
       "<table border=\"1\" class=\"dataframe\">\n",
       "  <thead>\n",
       "    <tr style=\"text-align: right;\">\n",
       "      <th></th>\n",
       "      <th>Day</th>\n",
       "      <th>Market Participant</th>\n",
       "      <th>Total Shares</th>\n",
       "      <th>Total Notional</th>\n",
       "      <th>Total Trade Count</th>\n",
       "    </tr>\n",
       "  </thead>\n",
       "  <tbody>\n",
       "    <tr>\n",
       "      <th>0</th>\n",
       "      <td>2010-12-31</td>\n",
       "      <td>AMEX (A)</td>\n",
       "      <td>25083128.0</td>\n",
       "      <td>4.231774e+08</td>\n",
       "      <td>96923</td>\n",
       "    </tr>\n",
       "    <tr>\n",
       "      <th>1</th>\n",
       "      <td>2010-12-31</td>\n",
       "      <td>BEX (B)</td>\n",
       "      <td>96986204.0</td>\n",
       "      <td>2.496656e+09</td>\n",
       "      <td>517244</td>\n",
       "    </tr>\n",
       "    <tr>\n",
       "      <th>2</th>\n",
       "      <td>2010-12-31</td>\n",
       "      <td>NSX (C)</td>\n",
       "      <td>28307821.0</td>\n",
       "      <td>6.299394e+08</td>\n",
       "      <td>106939</td>\n",
       "    </tr>\n",
       "  </tbody>\n",
       "</table>\n",
       "</div>"
      ],
      "text/plain": [
       "          Day Market Participant  Total Shares  Total Notional  \\\n",
       "0  2010-12-31           AMEX (A)    25083128.0    4.231774e+08   \n",
       "1  2010-12-31            BEX (B)    96986204.0    2.496656e+09   \n",
       "2  2010-12-31            NSX (C)    28307821.0    6.299394e+08   \n",
       "\n",
       "   Total Trade Count  \n",
       "0              96923  \n",
       "1             517244  \n",
       "2             106939  "
      ]
     },
     "execution_count": 29,
     "metadata": {},
     "output_type": "execute_result"
    }
   ],
   "source": [
    "combined_MKT.head(3)"
   ]
  },
  {
   "cell_type": "code",
   "execution_count": 30,
   "metadata": {},
   "outputs": [],
   "source": [
    "#MKT_part=combined_MKT.groupby('Market Participant').sum()"
   ]
  },
  {
   "cell_type": "code",
   "execution_count": 192,
   "metadata": {},
   "outputs": [],
   "source": [
    "MKT_part=combined_MKT.sort_values(by='Market Participant')"
   ]
  },
  {
   "cell_type": "code",
   "execution_count": 193,
   "metadata": {},
   "outputs": [
    {
     "data": {
      "text/html": [
       "<div>\n",
       "<style scoped>\n",
       "    .dataframe tbody tr th:only-of-type {\n",
       "        vertical-align: middle;\n",
       "    }\n",
       "\n",
       "    .dataframe tbody tr th {\n",
       "        vertical-align: top;\n",
       "    }\n",
       "\n",
       "    .dataframe thead th {\n",
       "        text-align: right;\n",
       "    }\n",
       "</style>\n",
       "<table border=\"1\" class=\"dataframe\">\n",
       "  <thead>\n",
       "    <tr style=\"text-align: right;\">\n",
       "      <th></th>\n",
       "      <th>Day</th>\n",
       "      <th>Market Participant</th>\n",
       "      <th>Total Shares</th>\n",
       "      <th>Total Notional</th>\n",
       "      <th>Total Trade Count</th>\n",
       "    </tr>\n",
       "  </thead>\n",
       "  <tbody>\n",
       "    <tr>\n",
       "      <th>1628</th>\n",
       "      <td>2014-07-17</td>\n",
       "      <td>ADF (D)</td>\n",
       "      <td>60967215.0</td>\n",
       "      <td>2.241300e+09</td>\n",
       "      <td>287284</td>\n",
       "    </tr>\n",
       "    <tr>\n",
       "      <th>1992</th>\n",
       "      <td>2014-06-10</td>\n",
       "      <td>ADF (D)</td>\n",
       "      <td>53951601.0</td>\n",
       "      <td>1.713916e+09</td>\n",
       "      <td>250348</td>\n",
       "    </tr>\n",
       "    <tr>\n",
       "      <th>2006</th>\n",
       "      <td>2014-06-09</td>\n",
       "      <td>ADF (D)</td>\n",
       "      <td>54126311.0</td>\n",
       "      <td>1.846032e+09</td>\n",
       "      <td>255333</td>\n",
       "    </tr>\n",
       "    <tr>\n",
       "      <th>2020</th>\n",
       "      <td>2014-06-06</td>\n",
       "      <td>ADF (D)</td>\n",
       "      <td>53847554.0</td>\n",
       "      <td>1.867987e+09</td>\n",
       "      <td>246091</td>\n",
       "    </tr>\n",
       "    <tr>\n",
       "      <th>2034</th>\n",
       "      <td>2014-06-05</td>\n",
       "      <td>ADF (D)</td>\n",
       "      <td>64442278.0</td>\n",
       "      <td>2.043151e+09</td>\n",
       "      <td>279310</td>\n",
       "    </tr>\n",
       "  </tbody>\n",
       "</table>\n",
       "</div>"
      ],
      "text/plain": [
       "             Day Market Participant  Total Shares  Total Notional  \\\n",
       "1628  2014-07-17            ADF (D)    60967215.0    2.241300e+09   \n",
       "1992  2014-06-10            ADF (D)    53951601.0    1.713916e+09   \n",
       "2006  2014-06-09            ADF (D)    54126311.0    1.846032e+09   \n",
       "2020  2014-06-06            ADF (D)    53847554.0    1.867987e+09   \n",
       "2034  2014-06-05            ADF (D)    64442278.0    2.043151e+09   \n",
       "\n",
       "      Total Trade Count  \n",
       "1628             287284  \n",
       "1992             250348  \n",
       "2006             255333  \n",
       "2020             246091  \n",
       "2034             279310  "
      ]
     },
     "execution_count": 193,
     "metadata": {},
     "output_type": "execute_result"
    }
   ],
   "source": [
    "MKT_part.head()"
   ]
  },
  {
   "cell_type": "code",
   "execution_count": 194,
   "metadata": {},
   "outputs": [],
   "source": [
    "#set an index by dates\n",
    "MKT_part.set_index(['Day'], drop=True, inplace=True)"
   ]
  },
  {
   "cell_type": "code",
   "execution_count": 195,
   "metadata": {},
   "outputs": [],
   "source": [
    "#Convert to daily dates\n",
    "MKT_part.index = pd.DatetimeIndex(data=MKT_part.index)\n",
    "\n",
    "#Convert to strings\n",
    "MKT_part.index = MKT_part.index.strftime('%Y')"
   ]
  },
  {
   "cell_type": "code",
   "execution_count": 196,
   "metadata": {},
   "outputs": [],
   "source": [
    "MKT_part=MKT_part.reset_index()"
   ]
  },
  {
   "cell_type": "code",
   "execution_count": 197,
   "metadata": {},
   "outputs": [],
   "source": [
    "l=MKT_part.groupby('index').mean()"
   ]
  },
  {
   "cell_type": "code",
   "execution_count": 198,
   "metadata": {},
   "outputs": [
    {
     "data": {
      "text/html": [
       "<div>\n",
       "<style scoped>\n",
       "    .dataframe tbody tr th:only-of-type {\n",
       "        vertical-align: middle;\n",
       "    }\n",
       "\n",
       "    .dataframe tbody tr th {\n",
       "        vertical-align: top;\n",
       "    }\n",
       "\n",
       "    .dataframe thead th {\n",
       "        text-align: right;\n",
       "    }\n",
       "</style>\n",
       "<table border=\"1\" class=\"dataframe\">\n",
       "  <thead>\n",
       "    <tr style=\"text-align: right;\">\n",
       "      <th></th>\n",
       "      <th>Total Shares</th>\n",
       "      <th>Total Notional</th>\n",
       "      <th>Total Trade Count</th>\n",
       "    </tr>\n",
       "    <tr>\n",
       "      <th>index</th>\n",
       "      <th></th>\n",
       "      <th></th>\n",
       "      <th></th>\n",
       "    </tr>\n",
       "  </thead>\n",
       "  <tbody>\n",
       "    <tr>\n",
       "      <th>2010</th>\n",
       "      <td>6.467700e+08</td>\n",
       "      <td>1.790559e+10</td>\n",
       "      <td>2.200361e+06</td>\n",
       "    </tr>\n",
       "    <tr>\n",
       "      <th>2011</th>\n",
       "      <td>5.224491e+08</td>\n",
       "      <td>1.687428e+10</td>\n",
       "      <td>2.024464e+06</td>\n",
       "    </tr>\n",
       "    <tr>\n",
       "      <th>2012</th>\n",
       "      <td>4.291572e+08</td>\n",
       "      <td>1.405358e+10</td>\n",
       "      <td>1.646727e+06</td>\n",
       "    </tr>\n",
       "    <tr>\n",
       "      <th>2013</th>\n",
       "      <td>4.124949e+08</td>\n",
       "      <td>1.484449e+10</td>\n",
       "      <td>1.574760e+06</td>\n",
       "    </tr>\n",
       "    <tr>\n",
       "      <th>2014</th>\n",
       "      <td>4.385449e+08</td>\n",
       "      <td>1.776094e+10</td>\n",
       "      <td>2.054305e+06</td>\n",
       "    </tr>\n",
       "    <tr>\n",
       "      <th>2015</th>\n",
       "      <td>5.275008e+08</td>\n",
       "      <td>2.122905e+10</td>\n",
       "      <td>2.484919e+06</td>\n",
       "    </tr>\n",
       "    <tr>\n",
       "      <th>2016</th>\n",
       "      <td>5.113018e+08</td>\n",
       "      <td>1.898606e+10</td>\n",
       "      <td>2.414847e+06</td>\n",
       "    </tr>\n",
       "    <tr>\n",
       "      <th>2017</th>\n",
       "      <td>4.635999e+08</td>\n",
       "      <td>1.925830e+10</td>\n",
       "      <td>2.186118e+06</td>\n",
       "    </tr>\n",
       "    <tr>\n",
       "      <th>2018</th>\n",
       "      <td>5.007555e+08</td>\n",
       "      <td>2.444136e+10</td>\n",
       "      <td>2.500623e+06</td>\n",
       "    </tr>\n",
       "    <tr>\n",
       "      <th>2019</th>\n",
       "      <td>4.462439e+08</td>\n",
       "      <td>2.042305e+10</td>\n",
       "      <td>2.309024e+06</td>\n",
       "    </tr>\n",
       "    <tr>\n",
       "      <th>2020</th>\n",
       "      <td>6.496825e+08</td>\n",
       "      <td>2.851441e+10</td>\n",
       "      <td>3.488069e+06</td>\n",
       "    </tr>\n",
       "  </tbody>\n",
       "</table>\n",
       "</div>"
      ],
      "text/plain": [
       "       Total Shares  Total Notional  Total Trade Count\n",
       "index                                                 \n",
       "2010   6.467700e+08    1.790559e+10       2.200361e+06\n",
       "2011   5.224491e+08    1.687428e+10       2.024464e+06\n",
       "2012   4.291572e+08    1.405358e+10       1.646727e+06\n",
       "2013   4.124949e+08    1.484449e+10       1.574760e+06\n",
       "2014   4.385449e+08    1.776094e+10       2.054305e+06\n",
       "2015   5.275008e+08    2.122905e+10       2.484919e+06\n",
       "2016   5.113018e+08    1.898606e+10       2.414847e+06\n",
       "2017   4.635999e+08    1.925830e+10       2.186118e+06\n",
       "2018   5.007555e+08    2.444136e+10       2.500623e+06\n",
       "2019   4.462439e+08    2.042305e+10       2.309024e+06\n",
       "2020   6.496825e+08    2.851441e+10       3.488069e+06"
      ]
     },
     "execution_count": 198,
     "metadata": {},
     "output_type": "execute_result"
    }
   ],
   "source": [
    "l.head(11)"
   ]
  },
  {
   "cell_type": "code",
   "execution_count": 199,
   "metadata": {},
   "outputs": [
    {
     "data": {
      "text/plain": [
       "<matplotlib.axes._subplots.AxesSubplot at 0x26718598308>"
      ]
     },
     "execution_count": 199,
     "metadata": {},
     "output_type": "execute_result"
    },
    {
     "data": {
      "image/png": "[encoded data removed]",
      "text/plain": [
       "<Figure size 432x288 with 1 Axes>"
      ]
     },
     "metadata": {
      "needs_background": "light"
     },
     "output_type": "display_data"
    }
   ],
   "source": [
    "l.plot() #basic plotting"
   ]
  },
  {
   "cell_type": "code",
   "execution_count": 140,
   "metadata": {},
   "outputs": [],
   "source": [
    "stock_volumes=pd.read_csv('Resources/market-volumes2.csv', infer_datetime_format=True, parse_dates=True,index_col='Date')"
   ]
  },
  {
   "cell_type": "code",
   "execution_count": 141,
   "metadata": {},
   "outputs": [
    {
     "data": {
      "text/html": [
       "<div>\n",
       "<style scoped>\n",
       "    .dataframe tbody tr th:only-of-type {\n",
       "        vertical-align: middle;\n",
       "    }\n",
       "\n",
       "    .dataframe tbody tr th {\n",
       "        vertical-align: top;\n",
       "    }\n",
       "\n",
       "    .dataframe thead th {\n",
       "        text-align: right;\n",
       "    }\n",
       "</style>\n",
       "<table border=\"1\" class=\"dataframe\">\n",
       "  <thead>\n",
       "    <tr style=\"text-align: right;\">\n",
       "      <th></th>\n",
       "      <th>Google</th>\n",
       "      <th>Apple</th>\n",
       "      <th>Amazon</th>\n",
       "      <th>Costco</th>\n",
       "      <th>Walmart</th>\n",
       "      <th>American_airline</th>\n",
       "      <th>McDonald</th>\n",
       "      <th>Wells_Fargo</th>\n",
       "    </tr>\n",
       "    <tr>\n",
       "      <th>Date</th>\n",
       "      <th></th>\n",
       "      <th></th>\n",
       "      <th></th>\n",
       "      <th></th>\n",
       "      <th></th>\n",
       "      <th></th>\n",
       "      <th></th>\n",
       "      <th></th>\n",
       "    </tr>\n",
       "  </thead>\n",
       "  <tbody>\n",
       "    <tr>\n",
       "      <th>2010-01-04 16:00:00</th>\n",
       "      <td>1957963</td>\n",
       "      <td>17633150</td>\n",
       "      <td>7600543</td>\n",
       "      <td>3280136</td>\n",
       "      <td>20753890</td>\n",
       "      <td>17446532.0</td>\n",
       "      <td>5839235</td>\n",
       "      <td>39338100</td>\n",
       "    </tr>\n",
       "    <tr>\n",
       "      <th>2010-01-05 16:00:00</th>\n",
       "      <td>3007857</td>\n",
       "      <td>21496572</td>\n",
       "      <td>8856456</td>\n",
       "      <td>2775802</td>\n",
       "      <td>15649378</td>\n",
       "      <td>24046796.0</td>\n",
       "      <td>7098999</td>\n",
       "      <td>55418928</td>\n",
       "    </tr>\n",
       "    <tr>\n",
       "      <th>2010-01-06 16:00:00</th>\n",
       "      <td>3980628</td>\n",
       "      <td>19719942</td>\n",
       "      <td>7180977</td>\n",
       "      <td>3722838</td>\n",
       "      <td>12517828</td>\n",
       "      <td>15770835.0</td>\n",
       "      <td>10551872</td>\n",
       "      <td>33239586</td>\n",
       "    </tr>\n",
       "    <tr>\n",
       "      <th>2010-01-07 16:00:00</th>\n",
       "      <td>6418020</td>\n",
       "      <td>17040332</td>\n",
       "      <td>11030124</td>\n",
       "      <td>4527524</td>\n",
       "      <td>10662697</td>\n",
       "      <td>17664004.0</td>\n",
       "      <td>7517657</td>\n",
       "      <td>61648944</td>\n",
       "    </tr>\n",
       "    <tr>\n",
       "      <th>2010-01-08 16:00:00</th>\n",
       "      <td>4724735</td>\n",
       "      <td>15995583</td>\n",
       "      <td>9833829</td>\n",
       "      <td>2348272</td>\n",
       "      <td>11363488</td>\n",
       "      <td>12414826.0</td>\n",
       "      <td>6107296</td>\n",
       "      <td>35512360</td>\n",
       "    </tr>\n",
       "  </tbody>\n",
       "</table>\n",
       "</div>"
      ],
      "text/plain": [
       "                      Google     Apple    Amazon   Costco   Walmart  \\\n",
       "Date                                                                  \n",
       "2010-01-04 16:00:00  1957963  17633150   7600543  3280136  20753890   \n",
       "2010-01-05 16:00:00  3007857  21496572   8856456  2775802  15649378   \n",
       "2010-01-06 16:00:00  3980628  19719942   7180977  3722838  12517828   \n",
       "2010-01-07 16:00:00  6418020  17040332  11030124  4527524  10662697   \n",
       "2010-01-08 16:00:00  4724735  15995583   9833829  2348272  11363488   \n",
       "\n",
       "                     American_airline  McDonald  Wells_Fargo  \n",
       "Date                                                          \n",
       "2010-01-04 16:00:00        17446532.0   5839235     39338100  \n",
       "2010-01-05 16:00:00        24046796.0   7098999     55418928  \n",
       "2010-01-06 16:00:00        15770835.0  10551872     33239586  \n",
       "2010-01-07 16:00:00        17664004.0   7517657     61648944  \n",
       "2010-01-08 16:00:00        12414826.0   6107296     35512360  "
      ]
     },
     "execution_count": 141,
     "metadata": {},
     "output_type": "execute_result"
    }
   ],
   "source": [
    "stock_volumes.head()"
   ]
  },
  {
   "cell_type": "code",
   "execution_count": 142,
   "metadata": {},
   "outputs": [],
   "source": [
    "#set an index by dates\n",
    "#stock_volumes=stock_volumes.set_index(['Date'])\n"
   ]
  },
  {
   "cell_type": "code",
   "execution_count": 143,
   "metadata": {},
   "outputs": [],
   "source": [
    "#stock_volumes.head()"
   ]
  },
  {
   "cell_type": "code",
   "execution_count": 161,
   "metadata": {},
   "outputs": [],
   "source": [
    "#Convert to daily dates\n",
    "stock_volumes.index = pd.DatetimeIndex(data=stock_volumes.index)\n",
    "#Convert to strings\n",
    "stock_volumes['Year'] = stock_volumes.index.strftime('%Y')\n",
    "\n",
    "grouped_s_v=stock_volumes.groupby('Year').mean()"
   ]
  },
  {
   "cell_type": "code",
   "execution_count": 162,
   "metadata": {},
   "outputs": [
    {
     "data": {
      "text/plain": [
       "<matplotlib.axes._subplots.AxesSubplot at 0x26712fb3148>"
      ]
     },
     "execution_count": 162,
     "metadata": {},
     "output_type": "execute_result"
    },
    {
     "data": {
      "image/png": "[encoded data removed]",
      "text/plain": [
       "<Figure size 432x288 with 1 Axes>"
      ]
     },
     "metadata": {
      "needs_background": "light"
     },
     "output_type": "display_data"
    }
   ],
   "source": [
    "grouped_s_v.plot() #basic plotting"
   ]
  },
  {
   "cell_type": "code",
   "execution_count": 200,
   "metadata": {},
   "outputs": [
    {
     "data": {
      "text/plain": [
       "2068262.9365079366"
      ]
     },
     "execution_count": 200,
     "metadata": {},
     "output_type": "execute_result"
    }
   ],
   "source": [
    "#2015 had an etraordinary outlook, we investigate the occurence of 2015\n",
    "grouped_s_v['Google'][5]"
   ]
  },
  {
   "cell_type": "code",
   "execution_count": 180,
   "metadata": {},
   "outputs": [
    {
     "data": {
      "text/plain": [
       "2226267.779604081"
      ]
     },
     "execution_count": 180,
     "metadata": {},
     "output_type": "execute_result"
    }
   ],
   "source": [
    "#average of previous years\n",
    "grouped_s_v['Google'][:9].mean()"
   ]
  },
  {
   "cell_type": "code",
   "execution_count": 173,
   "metadata": {},
   "outputs": [
    {
     "data": {
      "text/plain": [
       "1419116.5357142857"
      ]
     },
     "execution_count": 173,
     "metadata": {},
     "output_type": "execute_result"
    }
   ],
   "source": [
    "#2019 a year before\n",
    "grouped_s_v['Google'][9]"
   ]
  },
  {
   "cell_type": "code",
   "execution_count": 171,
   "metadata": {},
   "outputs": [
    {
     "data": {
      "text/plain": [
       "1893451.0912698412"
      ]
     },
     "execution_count": 171,
     "metadata": {},
     "output_type": "execute_result"
    }
   ],
   "source": [
    "grouped_s_v['Google'][10]"
   ]
  },
  {
   "cell_type": "code",
   "execution_count": 186,
   "metadata": {},
   "outputs": [
    {
     "data": {
      "text/plain": [
       "28695623.4047345"
      ]
     },
     "execution_count": 186,
     "metadata": {},
     "output_type": "execute_result"
    }
   ],
   "source": [
    "#2015 had an etraordinary outlook, we investigate the occurence of 2015\n",
    "grouped_s_v['Apple'][:9].mean()"
   ]
  },
  {
   "cell_type": "code",
   "execution_count": 188,
   "metadata": {},
   "outputs": [
    {
     "data": {
      "text/plain": [
       "51858815.28571428"
      ]
     },
     "execution_count": 188,
     "metadata": {},
     "output_type": "execute_result"
    }
   ],
   "source": [
    "grouped_s_v['Apple'][5]"
   ]
  },
  {
   "cell_type": "code",
   "execution_count": 201,
   "metadata": {},
   "outputs": [
    {
     "data": {
      "text/plain": [
       "28125956.793650795"
      ]
     },
     "execution_count": 201,
     "metadata": {},
     "output_type": "execute_result"
    }
   ],
   "source": [
    "grouped_s_v['Apple'][9]"
   ]
  },
  {
   "cell_type": "code",
   "execution_count": 187,
   "metadata": {},
   "outputs": [
    {
     "data": {
      "text/plain": [
       "73259118.62698413"
      ]
     },
     "execution_count": 187,
     "metadata": {},
     "output_type": "execute_result"
    }
   ],
   "source": [
    "grouped_s_v['Apple'][10]"
   ]
  },
  {
   "cell_type": "code",
   "execution_count": 202,
   "metadata": {},
   "outputs": [
    {
     "data": {
      "text/plain": [
       "4601615.917041759"
      ]
     },
     "execution_count": 202,
     "metadata": {},
     "output_type": "execute_result"
    }
   ],
   "source": [
    "#2015 had an etraordinary outlook, we investigate the occurence of 2015\n",
    "grouped_s_v['Amazon'][:9].mean()"
   ]
  },
  {
   "cell_type": "code",
   "execution_count": 203,
   "metadata": {},
   "outputs": [
    {
     "data": {
      "text/plain": [
       "3798647.626984127"
      ]
     },
     "execution_count": 203,
     "metadata": {},
     "output_type": "execute_result"
    }
   ],
   "source": [
    "grouped_s_v['Amazon'][5]"
   ]
  },
  {
   "cell_type": "code",
   "execution_count": 204,
   "metadata": {},
   "outputs": [
    {
     "data": {
      "text/plain": [
       "3880833.4444444445"
      ]
     },
     "execution_count": 204,
     "metadata": {},
     "output_type": "execute_result"
    }
   ],
   "source": [
    "grouped_s_v['Amazon'][9]"
   ]
  },
  {
   "cell_type": "code",
   "execution_count": 205,
   "metadata": {},
   "outputs": [
    {
     "data": {
      "text/plain": [
       "4940731.726190476"
      ]
     },
     "execution_count": 205,
     "metadata": {},
     "output_type": "execute_result"
    }
   ],
   "source": [
    "grouped_s_v['Amazon'][10]"
   ]
  },
  {
   "cell_type": "code",
   "execution_count": 59,
   "metadata": {},
   "outputs": [],
   "source": [
    "k=grouped_s_v.reset_index()\n",
    "gten=k['Google'][:9].mean()\n",
    "gteny=(k['Apple'][9]).sum()"
   ]
  },
  {
   "cell_type": "code",
   "execution_count": 60,
   "metadata": {},
   "outputs": [
    {
     "ename": "TypeError",
     "evalue": "'numpy.dtype' object is not callable",
     "output_type": "error",
     "traceback": [
      "\u001b[1;31m---------------------------------------------------------------------------\u001b[0m",
      "\u001b[1;31mTypeError\u001b[0m                                 Traceback (most recent call last)",
      "\u001b[1;32m<ipython-input-60-54ae3a2b0884>\u001b[0m in \u001b[0;36m<module>\u001b[1;34m\u001b[0m\n\u001b[0;32m      1\u001b[0m \u001b[1;31m#covar=gten.cov(gteny)\u001b[0m\u001b[1;33m\u001b[0m\u001b[1;33m\u001b[0m\u001b[1;33m\u001b[0m\u001b[0m\n\u001b[1;32m----> 2\u001b[1;33m \u001b[0mgteny\u001b[0m\u001b[1;33m.\u001b[0m\u001b[0mdtype\u001b[0m\u001b[1;33m(\u001b[0m\u001b[1;33m)\u001b[0m\u001b[1;33m\u001b[0m\u001b[1;33m\u001b[0m\u001b[0m\n\u001b[0m",
      "\u001b[1;31mTypeError\u001b[0m: 'numpy.dtype' object is not callable"
     ]
    }
   ],
   "source": [
    "#covar=gten.cov(gteny)\n",
    "gteny.dtype()"
   ]
  },
  {
   "cell_type": "code",
   "execution_count": 216,
   "metadata": {},
   "outputs": [],
   "source": [
    "aapl_holding=pd.read_csv('Resources/AAPL.csv',infer_datetime_format=True, parse_dates=True,index_col='Date')\n",
    "amazon_holding=pd.read_csv('Resources/AMZN.csv',infer_datetime_format=True, parse_dates=True,index_col='Date')\n",
    "birkshireA_holding=pd.read_csv('Resources/BRK.A.csv',infer_datetime_format=True, parse_dates=True,index_col='Date')\n",
    "birkshireB_holding=pd.read_csv('Resources/BRK.B.csv',infer_datetime_format=True, parse_dates=True,index_col='Date')\n",
    "costco_holding=pd.read_csv('Resources/COST.csv',infer_datetime_format=True, parse_dates=True,index_col='Date')\n",
    "goldman_sachs_holding=pd.read_csv('Resources/GOLD.csv',infer_datetime_format=True, parse_dates=True,index_col='Date')\n",
    "fb_holding=pd.read_csv('Resources/FB.csv',infer_datetime_format=True, parse_dates=True,index_col='Date')\n",
    "google_holding=pd.read_csv('Resources/GOOGL.csv',infer_datetime_format=True, parse_dates=True,index_col='Date')"
   ]
  },
  {
   "cell_type": "code",
   "execution_count": 217,
   "metadata": {},
   "outputs": [],
   "source": [
    "#Convert to daily dates\n",
    "aapl_holding.index = pd.DatetimeIndex(data=aapl_holding.index)\n",
    "#Convert to strings\n",
    "aapl_holding['Year'] = aapl_holding.index.strftime('%Y')\n",
    "\n",
    "grouped_aapl=aapl_holding.groupby('Year').mean()"
   ]
  },
  {
   "cell_type": "code",
   "execution_count": 218,
   "metadata": {},
   "outputs": [
    {
     "data": {
      "text/html": [
       "<div>\n",
       "<style scoped>\n",
       "    .dataframe tbody tr th:only-of-type {\n",
       "        vertical-align: middle;\n",
       "    }\n",
       "\n",
       "    .dataframe tbody tr th {\n",
       "        vertical-align: top;\n",
       "    }\n",
       "\n",
       "    .dataframe thead th {\n",
       "        text-align: right;\n",
       "    }\n",
       "</style>\n",
       "<table border=\"1\" class=\"dataframe\">\n",
       "  <thead>\n",
       "    <tr style=\"text-align: right;\">\n",
       "      <th></th>\n",
       "      <th>apple_holding</th>\n",
       "    </tr>\n",
       "    <tr>\n",
       "      <th>Year</th>\n",
       "      <th></th>\n",
       "    </tr>\n",
       "  </thead>\n",
       "  <tbody>\n",
       "    <tr>\n",
       "      <th>2018</th>\n",
       "      <td>171757.215921</td>\n",
       "    </tr>\n",
       "    <tr>\n",
       "      <th>2019</th>\n",
       "      <td>220949.151447</td>\n",
       "    </tr>\n",
       "    <tr>\n",
       "      <th>2020</th>\n",
       "      <td>233785.542431</td>\n",
       "    </tr>\n",
       "  </tbody>\n",
       "</table>\n",
       "</div>"
      ],
      "text/plain": [
       "      apple_holding\n",
       "Year               \n",
       "2018  171757.215921\n",
       "2019  220949.151447\n",
       "2020  233785.542431"
      ]
     },
     "execution_count": 218,
     "metadata": {},
     "output_type": "execute_result"
    }
   ],
   "source": [
    "grouped_aapl"
   ]
  },
  {
   "cell_type": "code",
   "execution_count": 219,
   "metadata": {},
   "outputs": [
    {
     "data": {
      "text/plain": [
       "<matplotlib.axes._subplots.AxesSubplot at 0x26713858088>"
      ]
     },
     "execution_count": 219,
     "metadata": {},
     "output_type": "execute_result"
    },
    {
     "data": {
      "image/png": "[encoded data removed]",
      "text/plain": [
       "<Figure size 432x288 with 1 Axes>"
      ]
     },
     "metadata": {
      "needs_background": "light"
     },
     "output_type": "display_data"
    }
   ],
   "source": [
    "grouped_aapl.plot()"
   ]
  },
  {
   "cell_type": "code",
   "execution_count": 220,
   "metadata": {},
   "outputs": [],
   "source": [
    "#implementing yahoo api"
   ]
  },
  {
   "cell_type": "code",
   "execution_count": 230,
   "metadata": {},
   "outputs": [
    {
     "data": {
      "text/plain": [
       "<matplotlib.axes._subplots.AxesSubplot at 0x2670f9e1088>"
      ]
     },
     "execution_count": 230,
     "metadata": {},
     "output_type": "execute_result"
    },
    {
     "data": {
      "image/png": "[encoded data removed]",
      "text/plain": [
       "<Figure size 432x288 with 1 Axes>"
      ]
     },
     "metadata": {
      "needs_background": "light"
     },
     "output_type": "display_data"
    }
   ],
   "source": [
    "aapl_yf = yf.Ticker(\"aapl\")\n",
    "\n",
    "# get stock info\n",
    "#aapl_yf.info()\n",
    "aapl_split=aapl_yf.get_splits(proxy=None)\n",
    "aapl_split.plot()"
   ]
  },
  {
   "cell_type": "code",
   "execution_count": 233,
   "metadata": {},
   "outputs": [
    {
     "data": {
      "text/plain": [
       "Date\n",
       "1993-10-22    2.0\n",
       "2000-01-14    2.0\n",
       "Name: Stock Splits, dtype: float64"
      ]
     },
     "execution_count": 233,
     "metadata": {},
     "output_type": "execute_result"
    }
   ],
   "source": [
    "cost_yf = yf.Ticker(\"cost\")\n",
    "\n",
    "# get stock info\n",
    "#aapl_yf.info()\n",
    "cost_split=cost_yf.get_splits(proxy=None)\n",
    "cost_split.head()"
   ]
  },
  {
   "cell_type": "code",
   "execution_count": 243,
   "metadata": {},
   "outputs": [
    {
     "data": {
      "text/plain": [
       "Date\n",
       "2020-08-31    5.0\n",
       "Name: Stock Splits, dtype: float64"
      ]
     },
     "execution_count": 243,
     "metadata": {},
     "output_type": "execute_result"
    }
   ],
   "source": [
    "tsla_yf = yf.Ticker(\"tsla\")\n",
    "\n",
    "# get stock info\n",
    "#aapl_yf.info()\n",
    "tsla_split=tsla_yf.get_splits(proxy=None)\n",
    "tsla_split.head()"
   ]
  },
  {
   "cell_type": "code",
   "execution_count": 223,
   "metadata": {},
   "outputs": [],
   "source": [
    "#Convert to daily dates\n",
    "amazon_holding.index = pd.DatetimeIndex(data=amazon_holding.index)\n",
    "#Convert to strings\n",
    "amazon_holding['Year'] = amazon_holding.index.strftime('%Y')\n",
    "\n",
    "grouped_amazon=amazon_holding.groupby('Year').mean()"
   ]
  },
  {
   "cell_type": "code",
   "execution_count": 224,
   "metadata": {},
   "outputs": [
    {
     "data": {
      "text/html": [
       "<div>\n",
       "<style scoped>\n",
       "    .dataframe tbody tr th:only-of-type {\n",
       "        vertical-align: middle;\n",
       "    }\n",
       "\n",
       "    .dataframe tbody tr th {\n",
       "        vertical-align: top;\n",
       "    }\n",
       "\n",
       "    .dataframe thead th {\n",
       "        text-align: right;\n",
       "    }\n",
       "</style>\n",
       "<table border=\"1\" class=\"dataframe\">\n",
       "  <thead>\n",
       "    <tr style=\"text-align: right;\">\n",
       "      <th></th>\n",
       "      <th>Amazon_holding</th>\n",
       "    </tr>\n",
       "    <tr>\n",
       "      <th>Year</th>\n",
       "      <th></th>\n",
       "    </tr>\n",
       "  </thead>\n",
       "  <tbody>\n",
       "    <tr>\n",
       "      <th>2018</th>\n",
       "      <td>96164.587593</td>\n",
       "    </tr>\n",
       "    <tr>\n",
       "      <th>2019</th>\n",
       "      <td>116794.245017</td>\n",
       "    </tr>\n",
       "    <tr>\n",
       "      <th>2020</th>\n",
       "      <td>110255.820483</td>\n",
       "    </tr>\n",
       "  </tbody>\n",
       "</table>\n",
       "</div>"
      ],
      "text/plain": [
       "      Amazon_holding\n",
       "Year                \n",
       "2018    96164.587593\n",
       "2019   116794.245017\n",
       "2020   110255.820483"
      ]
     },
     "execution_count": 224,
     "metadata": {},
     "output_type": "execute_result"
    }
   ],
   "source": [
    "grouped_amazon"
   ]
  },
  {
   "cell_type": "code",
   "execution_count": 225,
   "metadata": {},
   "outputs": [
    {
     "data": {
      "text/plain": [
       "<matplotlib.axes._subplots.AxesSubplot at 0x26714fa09c8>"
      ]
     },
     "execution_count": 225,
     "metadata": {},
     "output_type": "execute_result"
    },
    {
     "data": {
      "image/png": "[encoded data removed]",
      "text/plain": [
       "<Figure size 432x288 with 1 Axes>"
      ]
     },
     "metadata": {
      "needs_background": "light"
     },
     "output_type": "display_data"
    }
   ],
   "source": [
    "grouped_amazon.plot()"
   ]
  },
  {
   "cell_type": "code",
   "execution_count": 226,
   "metadata": {},
   "outputs": [],
   "source": [
    "#Convert to daily dates\n",
    "costco_holding.index = pd.DatetimeIndex(data=costco_holding.index)\n",
    "#Convert to strings\n",
    "costco_holding['Year'] = costco_holding.index.strftime('%Y')\n",
    "\n",
    "grouped_costco=costco_holding.groupby('Year').mean()"
   ]
  },
  {
   "cell_type": "code",
   "execution_count": 227,
   "metadata": {},
   "outputs": [
    {
     "data": {
      "text/plain": [
       "<matplotlib.axes._subplots.AxesSubplot at 0x267184a03c8>"
      ]
     },
     "execution_count": 227,
     "metadata": {},
     "output_type": "execute_result"
    },
    {
     "data": {
      "image/png": "[encoded data removed]",
      "text/plain": [
       "<Figure size 432x288 with 1 Axes>"
      ]
     },
     "metadata": {
      "needs_background": "light"
     },
     "output_type": "display_data"
    }
   ],
   "source": [
    "grouped_costco.plot()"
   ]
  },
  {
   "cell_type": "code",
   "execution_count": 228,
   "metadata": {},
   "outputs": [],
   "source": [
    "#Convert to daily dates\n",
    "goldman_sachs_holding.index = pd.DatetimeIndex(data=goldman_sachs_holding.index)\n",
    "#Convert to strings\n",
    "goldman_sachs_holding['Year'] = goldman_sachs_holding.index.strftime('%Y')\n",
    "\n",
    "grouped_gold=goldman_sachs_holding.groupby('Year').mean()"
   ]
  },
  {
   "cell_type": "code",
   "execution_count": 229,
   "metadata": {},
   "outputs": [
    {
     "data": {
      "text/plain": [
       "<matplotlib.axes._subplots.AxesSubplot at 0x267183261c8>"
      ]
     },
     "execution_count": 229,
     "metadata": {},
     "output_type": "execute_result"
    },
    {
     "data": {
      "image/png": "[encoded data removed]",
      "text/plain": [
       "<Figure size 432x288 with 1 Axes>"
      ]
     },
     "metadata": {
      "needs_background": "light"
     },
     "output_type": "display_data"
    }
   ],
   "source": [
    "grouped_gold.plot()"
   ]
  },
  {
   "cell_type": "code",
   "execution_count": null,
   "metadata": {},
   "outputs": [],
   "source": []
  },
  {
   "cell_type": "code",
   "execution_count": null,
   "metadata": {},
   "outputs": [],
   "source": []
  }
 ],
 "metadata": {
  "kernelspec": {
   "display_name": "Python 3",
   "language": "python",
   "name": "python3"
  },
  "language_info": {
   "codemirror_mode": {
    "name": "ipython",
    "version": 3
   },
   "file_extension": ".py",
   "mimetype": "text/x-python",
   "name": "python",
   "nbconvert_exporter": "python",
   "pygments_lexer": "ipython3",
   "version": "3.7.9"
  }
 },
 "nbformat": 4,
 "nbformat_minor": 5
}
